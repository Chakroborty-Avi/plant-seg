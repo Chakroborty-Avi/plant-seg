{
 "cells": [
  {
   "cell_type": "code",
   "execution_count": 1,
   "metadata": {},
   "outputs": [],
   "source": [
    "# %load_ext autoreload\n",
    "# %autoreload 2\n",
    "from pathlib import Path\n",
    "\n",
    "from plantseg.workflows import WorkflowHandler\n",
    "from plantseg.workflows.io_tasks import (\n",
    "    export_image_task,\n",
    "    gaussian_smoothing_task,\n",
    "    import_image_task,\n",
    "    mock_task1,\n",
    "    mock_task2,\n",
    ")\n",
    "from plantseg.workflows.workflow_handler import workflow_handler"
   ]
  },
  {
   "cell_type": "code",
   "execution_count": 2,
   "metadata": {},
   "outputs": [
    {
     "data": {
      "text/plain": [
       "'import_image_task'"
      ]
     },
     "execution_count": 2,
     "metadata": {},
     "output_type": "execute_result"
    }
   ],
   "source": [
    "import_image_task.__plantseg_task__"
   ]
  },
  {
   "cell_type": "code",
   "execution_count": 3,
   "metadata": {},
   "outputs": [
    {
     "data": {
      "text/plain": [
       "{'__workflow_func__': 'import_image_task'}"
      ]
     },
     "execution_count": 3,
     "metadata": {},
     "output_type": "execute_result"
    }
   ],
   "source": []
  },
  {
   "cell_type": "code",
   "execution_count": 2,
   "metadata": {},
   "outputs": [],
   "source": [
    "workflow_handler.clean_dag()\n",
    "path = Path(\"/home/lcerrone/data/ovule_sample.h5\")\n",
    "\n",
    "image = import_image_task(input_path=path, key=\"raw\", image_name=\"ovule_sample\", image_type=\"raw\", stack_layout=\"ZXY\")\n",
    "label = import_image_task(\n",
    "    input_path=path, key=\"label\", image_name=\"ovule_sample_label\", image_type=\"label\", stack_layout=\"ZXY\"\n",
    ")\n",
    "\n",
    "image2, image3 = mock_task1(image=image)\n",
    "image4 = mock_task2(image=image2, image2=label)\n",
    "smooth_image = gaussian_smoothing_task(image=image, sigma=1.0)\n",
    "\n",
    "export_image_task(\n",
    "    image=smooth_image,\n",
    "    output_directory=path.parent,\n",
    "    output_file_name=smooth_image.name,\n",
    "    custom_key=\"smoothed\",\n",
    "    scale_to_origin=True,\n",
    "    file_format=\"tiff\",\n",
    "    dtype=\"uint16\",\n",
    ")"
   ]
  },
  {
   "cell_type": "code",
   "execution_count": 3,
   "metadata": {},
   "outputs": [],
   "source": [
    "workflow_handler.save_to_yaml(\"dag.yaml\")"
   ]
  },
  {
   "cell_type": "code",
   "execution_count": 4,
   "metadata": {},
   "outputs": [
    {
     "name": "stdout",
     "output_type": "stream",
     "text": [
      "func='import_image_workflow' images_inputs={'input_path': 'input_path_0'} parameters={'key': 'raw', 'image_name': 'ovule_sample', 'image_type': 'raw', 'stack_layout': 'ZXY'} list_private_parameters=['image_type', 'stack_layout'] outputs=['ovule_sample'] node_type=<NodeType.ROOT: 'root'> id=UUID('ddf0e828-47bd-413b-a721-59a0cc8ad2a7')\n",
      "func='gaussian_smoothing_workflow' images_inputs={'image': 'ovule_sample'} parameters={'sigma': 1.0} list_private_parameters=[] outputs=['ovule_sample_smoothed'] node_type=<NodeType.NODE: 'node'> id=UUID('87901597-7dc8-4736-82de-4d9fdf3a18ad')\n",
      "func='export_image_workflow' images_inputs={'image': 'ovule_sample_smoothed', 'output_directory': 'output_directory_0', 'output_file_name': 'output_file_name_0'} parameters={'custom_key': 'smoothed', 'scale_to_origin': True, 'file_format': 'tiff', 'dtype': 'uint16'} list_private_parameters=[] outputs=[] node_type=<NodeType.LEAF: 'leaf'> id=UUID('2724af3c-f670-4e01-b2a7-f03653b8a966')\n"
     ]
    }
   ],
   "source": [
    "for task in workflow_handler.dag.list_tasks:\n",
    "    print(task)"
   ]
  },
  {
   "cell_type": "code",
   "execution_count": 5,
   "metadata": {},
   "outputs": [
    {
     "name": "stdout",
     "output_type": "stream",
     "text": [
      "['import_image_workflow', 'export_image_workflow', 'gaussian_smoothing_workflow', 'mock_task1', 'mock_task2']\n"
     ]
    },
    {
     "data": {
      "text/plain": [
       "True"
      ]
     },
     "execution_count": 5,
     "metadata": {},
     "output_type": "execute_result"
    }
   ],
   "source": [
    "from plantseg.workflows.workflow_handler import DAG, Task\n",
    "\n",
    "\n",
    "class SerialRunner:\n",
    "    def __init__(self, dag_path: str | Path):\n",
    "        if isinstance(dag_path, str):\n",
    "            dag_path = Path(dag_path)\n",
    "\n",
    "        self.dag_path = dag_path\n",
    "\n",
    "        if not dag_path.exists():\n",
    "            raise FileNotFoundError(f\"File {dag_path} not found\")\n",
    "\n",
    "        self.func_registry = WorkflowHandler().func_registry\n",
    "        print(self.func_registry.list_funcs())\n",
    "\n",
    "    def find_next_task(self, dag: DAG, var_set: set[str]):\n",
    "        for task in dag.list_tasks:\n",
    "            required_inputs = set(task.images_inputs.values())\n",
    "            if required_inputs.issubset(var_set):\n",
    "                dag.list_tasks.remove(task)\n",
    "                return task\n",
    "        return None\n",
    "\n",
    "    def run_task(self, task: Task, var_space: dict):\n",
    "        # Get inputs from var_space\n",
    "        inputs = {}\n",
    "        for name, image_name in task.images_inputs.items():\n",
    "            inputs[name] = var_space[image_name]\n",
    "\n",
    "        # run the task\n",
    "        func = self.func_registry.get_func(task.func)\n",
    "        outputs = func(**inputs, **task.parameters)\n",
    "\n",
    "        # Save outputs in var_space\n",
    "        for i, name in enumerate(task.outputs):\n",
    "            if isinstance(outputs, tuple):\n",
    "                var_space[name] = outputs[i]\n",
    "            else:\n",
    "                var_space[name] = outputs\n",
    "\n",
    "        return var_space\n",
    "\n",
    "    def clean_var_space(self, dag: DAG, var_space: dict):\n",
    "        all_remaining_required_inputs = set()\n",
    "        for task in dag.list_tasks:\n",
    "            required_inputs = set(task.images_inputs.values())\n",
    "            all_remaining_required_inputs = all_remaining_required_inputs.union(required_inputs)\n",
    "\n",
    "        list_key_to_delete = []\n",
    "        for var in var_space.keys():\n",
    "            if var not in all_remaining_required_inputs:\n",
    "                list_key_to_delete.append(var)\n",
    "\n",
    "        for key in list_key_to_delete:\n",
    "            del var_space[key]\n",
    "        return var_space\n",
    "\n",
    "    def _parse_input(self, inputs: dict[str, str] | list[dict[str, str]]) -> list[dict]:\n",
    "        if isinstance(inputs, dict):\n",
    "            inputs = [inputs]\n",
    "\n",
    "        return inputs\n",
    "\n",
    "    def run(self, inputs: dict[str, str]):\n",
    "        dag = WorkflowHandler().from_yaml(self.dag_path)._dag\n",
    "\n",
    "        var_space = {}\n",
    "        for key in dag.list_inputs:\n",
    "            if key not in inputs:\n",
    "                raise ValueError(f\"Missing input variable {key}\")\n",
    "            var_space[key] = inputs[key]\n",
    "\n",
    "        while dag.list_tasks:\n",
    "            # Find next task to run\n",
    "            next_task = self.find_next_task(dag, set(var_space.keys()))\n",
    "            if next_task is None:\n",
    "                raise ValueError(\"No task to run next, the computation graph might be corrupted\")\n",
    "\n",
    "            # Run the task\n",
    "            var_space = self.run_task(next_task, var_space)\n",
    "\n",
    "            # Remove from var_space the variables that are not needed anymore\n",
    "            var_space = self.clean_var_space(dag, var_space)\n",
    "\n",
    "        if var_space:\n",
    "            raise ValueError(\"Some variables are still in the var_space, the computation graph might be corrupted\")\n",
    "        return True\n",
    "\n",
    "\n",
    "path = Path(\"/home/lcerrone/data/ovule_sample.h5\")\n",
    "\n",
    "runner = SerialRunner(\"dag.yaml\")\n",
    "var_space = {\n",
    "    'input_path_0': path,\n",
    "    'input_path_1': path,\n",
    "    'output_directory_0': path.parent,\n",
    "    'output_file_name_0': \"test2\",\n",
    "}\n",
    "\n",
    "runner.run(inputs=var_space)"
   ]
  },
  {
   "cell_type": "code",
   "execution_count": 13,
   "metadata": {},
   "outputs": [
    {
     "name": "stdout",
     "output_type": "stream",
     "text": [
      "import_image_workflow\n",
      "before task {'path_0': PosixPath('/home/lcerrone/data/ovule_sample.h5'), 'path_1': PosixPath('/home/lcerrone/data/ovule_sample.h5'), 'directory_0': PosixPath('/home/lcerrone/data')}\n",
      "after task {'path_0': PosixPath('/home/lcerrone/data/ovule_sample.h5'), 'directory_0': PosixPath('/home/lcerrone/data'), 'ovule_sample': <plantseg.image.Image object at 0x7fa524bf67d0>}\n",
      "import_image_workflow\n",
      "before task {'path_0': PosixPath('/home/lcerrone/data/ovule_sample.h5'), 'directory_0': PosixPath('/home/lcerrone/data'), 'ovule_sample': <plantseg.image.Image object at 0x7fa524bf67d0>}\n",
      "after task {'directory_0': PosixPath('/home/lcerrone/data'), 'ovule_sample': <plantseg.image.Image object at 0x7fa465ee7cd0>}\n",
      "task1\n",
      "before task {'directory_0': PosixPath('/home/lcerrone/data'), 'ovule_sample': <plantseg.image.Image object at 0x7fa465ee7cd0>}\n",
      "after task {'directory_0': PosixPath('/home/lcerrone/data'), 'ovule_sample': <plantseg.image.Image object at 0x7fa465ee7cd0>, 'ovule_sample_2': <plantseg.image.Image object at 0x7fa46592d4d0>}\n",
      "task2\n",
      "before task {'directory_0': PosixPath('/home/lcerrone/data'), 'ovule_sample': <plantseg.image.Image object at 0x7fa465ee7cd0>, 'ovule_sample_2': <plantseg.image.Image object at 0x7fa46592d4d0>}\n",
      "after task {'directory_0': PosixPath('/home/lcerrone/data'), 'ovule_sample_2_4': <plantseg.image.Image object at 0x7fa46f598810>}\n",
      "gaussian_smoothing_workflow\n",
      "before task {'directory_0': PosixPath('/home/lcerrone/data'), 'ovule_sample_2_4': <plantseg.image.Image object at 0x7fa46f598810>}\n",
      "after task {'directory_0': PosixPath('/home/lcerrone/data'), 'ovule_sample_2_4_smoothed': <plantseg.image.Image object at 0x7fa465ee7cd0>}\n",
      "export_image_workflow\n",
      "before task {'directory_0': PosixPath('/home/lcerrone/data'), 'ovule_sample_2_4_smoothed': <plantseg.image.Image object at 0x7fa465ee7cd0>}\n",
      "after task {}\n"
     ]
    }
   ],
   "source": [
    "with open(\"dag.yaml\", \"r\") as f:\n",
    "    dag_dict = yaml.load(f, Loader=yaml.FullLoader)\n",
    "\n",
    "dag = DAG(**dag_dict)\n",
    "\n",
    "var_space = {\n",
    "    'path_0': path,\n",
    "    'path_1': path,\n",
    "    'directory_0': path.parent,\n",
    "}\n",
    "\n",
    "while dag.list_tasks:\n",
    "    next_task = find_next_task(dag, set(var_space.keys()))\n",
    "    if next_task is None:\n",
    "        break\n",
    "\n",
    "    print(next_task.func)\n",
    "    print(\"before task\", var_space)\n",
    "    var_space = schedule_task(next_task, var_space, task_handler._funcs)\n",
    "    var_space = clean_var_space(dag, var_space)\n",
    "    print(\"after task\", var_space)"
   ]
  },
  {
   "cell_type": "code",
   "execution_count": 12,
   "metadata": {},
   "outputs": [
    {
     "data": {
      "text/plain": [
       "{'path_import_image_workflow_8279316341258423075': PosixPath('/home/lcerrone/data/ovule_sample.h5'),\n",
       " 'path_import_image_workflow_6773622813115396525': PosixPath('/home/lcerrone/data/ovule_sample.h5'),\n",
       " 'directory_export_image_workflow_-8523320658921002950': PosixPath('/home/lcerrone/data')}"
      ]
     },
     "execution_count": 12,
     "metadata": {},
     "output_type": "execute_result"
    }
   ],
   "source": [
    "var_space"
   ]
  },
  {
   "cell_type": "code",
   "execution_count": 65,
   "metadata": {},
   "outputs": [
    {
     "data": {
      "text/plain": [
       "['path_import_image_workflow_8279316341258423075',\n",
       " 'path_import_image_workflow_6773622813115396525',\n",
       " 'directory_export_image_workflow_-8523320658921002950']"
      ]
     },
     "execution_count": 65,
     "metadata": {},
     "output_type": "execute_result"
    }
   ],
   "source": []
  },
  {
   "cell_type": "code",
   "execution_count": null,
   "metadata": {},
   "outputs": [],
   "source": []
  }
 ],
 "metadata": {
  "kernelspec": {
   "display_name": "plant-seg",
   "language": "python",
   "name": "python3"
  },
  "language_info": {
   "codemirror_mode": {
    "name": "ipython",
    "version": 3
   },
   "file_extension": ".py",
   "mimetype": "text/x-python",
   "name": "python",
   "nbconvert_exporter": "python",
   "pygments_lexer": "ipython3",
   "version": "3.11.6"
  }
 },
 "nbformat": 4,
 "nbformat_minor": 2
}
